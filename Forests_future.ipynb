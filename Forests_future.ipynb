{
 "cells": [
  {
   "cell_type": "markdown",
   "id": "cc52035a-22ab-410a-b3ed-d98819379fc2",
   "metadata": {},
   "source": [
    "# Forest future\n",
    "\n",
    "In this notebook I will conclude whether world's forests are safe from disappearing or not. I will focus on future trends\n",
    "and those areas, which I consider as the most important ones.\n"
   ]
  },
  {
   "cell_type": "code",
   "execution_count": 1,
   "id": "e1b93bdf-6f43-40fc-ad31-8b128841bc49",
   "metadata": {},
   "outputs": [],
   "source": [
    "import numpy as np \n",
    "import pandas as pd \n",
    "import matplotlib.pyplot as plt \n",
    "import seaborn as sns \n",
    "import statsmodels as stat \n",
    "import warnings\n",
    "from ipywidgets import interact, widgets\n",
    "\n",
    "warnings.filterwarnings('ignore', category=FutureWarning)"
   ]
  },
  {
   "cell_type": "code",
   "execution_count": 2,
   "id": "aa42918a-bcb9-4f10-8698-1480fa16d1c8",
   "metadata": {},
   "outputs": [
    {
     "data": {
      "text/html": [
       "<div>\n",
       "<style scoped>\n",
       "    .dataframe tbody tr th:only-of-type {\n",
       "        vertical-align: middle;\n",
       "    }\n",
       "\n",
       "    .dataframe tbody tr th {\n",
       "        vertical-align: top;\n",
       "    }\n",
       "\n",
       "    .dataframe thead th {\n",
       "        text-align: right;\n",
       "    }\n",
       "</style>\n",
       "<table border=\"1\" class=\"dataframe\">\n",
       "  <thead>\n",
       "    <tr style=\"text-align: right;\">\n",
       "      <th></th>\n",
       "      <th>CountryID</th>\n",
       "      <th>Country and Area</th>\n",
       "      <th>Forest Area, 1990</th>\n",
       "      <th>Forest Area, 2000</th>\n",
       "      <th>Forest Area, 2010</th>\n",
       "      <th>Forest Area, 2015</th>\n",
       "      <th>Forest Area, 2020</th>\n",
       "      <th>Total Land Area, 2020</th>\n",
       "      <th>Forest Area as a Proportion of Total Land Area, 2020</th>\n",
       "      <th>Deforestation, 2015-2020</th>\n",
       "      <th>Total Forest Area Affected by Fire, 2015</th>\n",
       "    </tr>\n",
       "  </thead>\n",
       "  <tbody>\n",
       "    <tr>\n",
       "      <th>0</th>\n",
       "      <td>1.0</td>\n",
       "      <td>WORLD</td>\n",
       "      <td>4236433.42</td>\n",
       "      <td>4158049.52</td>\n",
       "      <td>4106316.94</td>\n",
       "      <td>...</td>\n",
       "      <td>4058930.81</td>\n",
       "      <td>13003000.0</td>\n",
       "      <td>31.13</td>\n",
       "      <td>10200</td>\n",
       "      <td>98040</td>\n",
       "    </tr>\n",
       "    <tr>\n",
       "      <th>1</th>\n",
       "      <td>4.0</td>\n",
       "      <td>Afghanistan</td>\n",
       "      <td>1208.44</td>\n",
       "      <td>1208.44</td>\n",
       "      <td>1208.44</td>\n",
       "      <td>1208.44</td>\n",
       "      <td>1208.44</td>\n",
       "      <td>65286.0</td>\n",
       "      <td>1.85</td>\n",
       "      <td>...</td>\n",
       "      <td>...</td>\n",
       "    </tr>\n",
       "    <tr>\n",
       "      <th>2</th>\n",
       "      <td>8.0</td>\n",
       "      <td>Albania</td>\n",
       "      <td>788.80</td>\n",
       "      <td>769.30</td>\n",
       "      <td>782.07</td>\n",
       "      <td>789.19</td>\n",
       "      <td>788.90</td>\n",
       "      <td>2740.0</td>\n",
       "      <td>28.79</td>\n",
       "      <td>...</td>\n",
       "      <td>...</td>\n",
       "    </tr>\n",
       "    <tr>\n",
       "      <th>3</th>\n",
       "      <td>12.0</td>\n",
       "      <td>Algeria</td>\n",
       "      <td>1667.00</td>\n",
       "      <td>1579.00</td>\n",
       "      <td>1918.00</td>\n",
       "      <td>1956</td>\n",
       "      <td>1949.00</td>\n",
       "      <td>238174.0</td>\n",
       "      <td>0.82</td>\n",
       "      <td>5.4</td>\n",
       "      <td>...</td>\n",
       "    </tr>\n",
       "    <tr>\n",
       "      <th>4</th>\n",
       "      <td>16.0</td>\n",
       "      <td>American Samoa</td>\n",
       "      <td>18.07</td>\n",
       "      <td>17.73</td>\n",
       "      <td>17.43</td>\n",
       "      <td>17.28</td>\n",
       "      <td>17.13</td>\n",
       "      <td>20.0</td>\n",
       "      <td>85.65</td>\n",
       "      <td>...</td>\n",
       "      <td>0</td>\n",
       "    </tr>\n",
       "  </tbody>\n",
       "</table>\n",
       "</div>"
      ],
      "text/plain": [
       "   CountryID Country and Area  Forest Area, 1990  Forest Area, 2000  \\\n",
       "0        1.0            WORLD         4236433.42         4158049.52   \n",
       "1        4.0      Afghanistan            1208.44            1208.44   \n",
       "2        8.0          Albania             788.80             769.30   \n",
       "3       12.0          Algeria            1667.00            1579.00   \n",
       "4       16.0   American Samoa              18.07              17.73   \n",
       "\n",
       "   Forest Area, 2010 Forest Area, 2015  Forest Area, 2020  \\\n",
       "0         4106316.94               ...         4058930.81   \n",
       "1            1208.44           1208.44            1208.44   \n",
       "2             782.07            789.19             788.90   \n",
       "3            1918.00              1956            1949.00   \n",
       "4              17.43             17.28              17.13   \n",
       "\n",
       "   Total Land Area, 2020  \\\n",
       "0             13003000.0   \n",
       "1                65286.0   \n",
       "2                 2740.0   \n",
       "3               238174.0   \n",
       "4                   20.0   \n",
       "\n",
       "   Forest Area as a Proportion of Total Land Area, 2020  \\\n",
       "0                                              31.13      \n",
       "1                                               1.85      \n",
       "2                                              28.79      \n",
       "3                                               0.82      \n",
       "4                                              85.65      \n",
       "\n",
       "  Deforestation, 2015-2020 Total Forest Area Affected by Fire, 2015  \n",
       "0                    10200                                    98040  \n",
       "1                      ...                                      ...  \n",
       "2                      ...                                      ...  \n",
       "3                      5.4                                      ...  \n",
       "4                      ...                                        0  "
      ]
     },
     "execution_count": 2,
     "metadata": {},
     "output_type": "execute_result"
    }
   ],
   "source": [
    "forest_data = pd.read_csv('Forest_Area.csv')\n",
    "\n",
    "forest_data.head()"
   ]
  },
  {
   "cell_type": "markdown",
   "id": "12077bfa-f49b-434b-8799-c9ad92f4a0ef",
   "metadata": {},
   "source": [
    "We have got 233 different countries with data collected for the whole planet. Now it's time to replace the missing data and preprocess it to make it clearer for further analysis"
   ]
  },
  {
   "cell_type": "code",
   "execution_count": 3,
   "id": "ec3729bd-5dcb-4b1e-b006-6539003a4350",
   "metadata": {},
   "outputs": [
    {
     "name": "stdout",
     "output_type": "stream",
     "text": [
      "<class 'pandas.core.frame.DataFrame'>\n",
      "RangeIndex: 237 entries, 0 to 236\n",
      "Data columns (total 11 columns):\n",
      " #   Column                                                Non-Null Count  Dtype  \n",
      "---  ------                                                --------------  -----  \n",
      " 0   CountryID                                             237 non-null    float64\n",
      " 1   Country and Area                                      237 non-null    object \n",
      " 2   Forest Area, 1990                                     237 non-null    float64\n",
      " 3   Forest Area, 2000                                     237 non-null    float64\n",
      " 4   Forest Area, 2010                                     237 non-null    float64\n",
      " 5   Forest Area, 2015                                     237 non-null    object \n",
      " 6   Forest Area, 2020                                     237 non-null    float64\n",
      " 7   Total Land Area, 2020                                 237 non-null    float64\n",
      " 8   Forest Area as a Proportion of Total Land Area, 2020  237 non-null    float64\n",
      " 9   Deforestation, 2015-2020                              237 non-null    object \n",
      " 10  Total Forest Area Affected by Fire, 2015              237 non-null    object \n",
      "dtypes: float64(7), object(4)\n",
      "memory usage: 20.5+ KB\n"
     ]
    }
   ],
   "source": [
    "forest_data.head()\n",
    "forest_data.info()"
   ]
  },
  {
   "cell_type": "code",
   "execution_count": 4,
   "id": "1a83919c-608a-4d0a-aca3-9cbbd6d6b681",
   "metadata": {},
   "outputs": [
    {
     "name": "stdout",
     "output_type": "stream",
     "text": [
      "<class 'pandas.core.frame.DataFrame'>\n",
      "RangeIndex: 237 entries, 0 to 236\n",
      "Data columns (total 11 columns):\n",
      " #   Column                                                Non-Null Count  Dtype  \n",
      "---  ------                                                --------------  -----  \n",
      " 0   CountryID                                             237 non-null    float64\n",
      " 1   Country and Area                                      237 non-null    object \n",
      " 2   Forest Area, 1990                                     237 non-null    float64\n",
      " 3   Forest Area, 2000                                     237 non-null    float64\n",
      " 4   Forest Area, 2010                                     237 non-null    float64\n",
      " 5   Forest Area, 2015                                     236 non-null    float64\n",
      " 6   Forest Area, 2020                                     237 non-null    float64\n",
      " 7   Total Land Area, 2020                                 237 non-null    float64\n",
      " 8   Forest Area as a Proportion of Total Land Area, 2020  237 non-null    float64\n",
      " 9   Deforestation, 2015-2020                              237 non-null    object \n",
      " 10  Total Forest Area Affected by Fire, 2015              237 non-null    object \n",
      "dtypes: float64(8), object(3)\n",
      "memory usage: 20.5+ KB\n",
      "[          nan 1.2084400e+03 7.8919000e+02 1.9560000e+03 1.7280000e+01\n",
      " 1.6000000e+01 6.9382690e+04 5.5000000e+00 8.4500000e+00 2.9097000e+04\n",
      " 3.2952000e+02 4.2000000e-01 1.3309450e+05 3.8811900e+03 1.0778900e+03\n",
      " 5.0986000e+02 6.0000000e-01 1.8834000e+03 6.3000000e+00 8.6335000e+03\n",
      " 6.8930000e+02 1.3328300e+03 3.3851500e+03 1.0000000e+00 2.7151800e+03\n",
      " 5.2027220e+04 1.9100000e+00 2.1605000e+03 1.5846200e+04 5.0388480e+05\n",
      " 3.6200000e+00 3.8000000e+02 3.8330000e+03 6.4664000e+03 2.7964000e+02\n",
      " 4.4220000e+01 8.8468200e+03 2.0620480e+04 3.4711571e+05 1.2720000e+01\n",
      " 2.2453000e+04 4.8900000e+03 1.7596080e+04 2.1029425e+05 6.0134660e+04\n",
      " 3.5110000e+01 2.2015000e+04 1.5590000e+01 2.9530300e+03 3.4011500e+03\n",
      " 1.9220000e+03 3.1840000e+03 7.0000000e-02 1.7271000e+02 2.6683900e+03\n",
      " 6.1362400e+03 1.3166212e+05 6.2468000e+02 5.6000000e+00 4.7870000e+01\n",
      " 2.1036500e+03 1.2819180e+04 4.8420000e+01 6.0638000e+02 2.4902200e+03\n",
      " 1.0710600e+03 2.4210100e+03 4.9150000e+02 1.7433500e+04 8.0000000e-02\n",
      " 0.0000000e+00 1.1066200e+03 2.2409000e+04 1.6836000e+04 8.0200000e+03\n",
      " 1.4946000e+02 2.3590000e+04 2.7134000e+02 2.8224000e+03 1.1419000e+04\n",
      " 7.8804400e+03 3.9018000e+03 2.2000000e-01 1.7700000e+01 7.2220000e+01\n",
      " 2.5000000e+01 3.5858000e+03 6.3890000e+03 2.0222100e+03 1.8461360e+04\n",
      " 3.6285000e+02 6.4638300e+03 2.0608200e+03 4.8160000e+01 7.0828000e+04\n",
      " 9.5027900e+04 1.0691980e+04 8.2500000e+02 7.5467000e+02 3.4600000e+00\n",
      " 1.6500000e+02 9.2970800e+03 5.7746000e+02 2.4944000e+04 9.7500000e+01\n",
      " 3.3084600e+03 3.5224100e+03 1.1800000e+00 6.2500000e+00 1.2518100e+03\n",
      " 1.6768000e+04 3.3914400e+03 1.4033000e+02 3.4520000e+01 7.7687400e+03\n",
      " 2.1700000e+02 6.7000000e+00 2.1870000e+03 8.8700000e+01 1.2495890e+04\n",
      " 2.4517000e+03 1.9464220e+04 8.2000000e-01 1.3296000e+04 3.5000000e-01\n",
      " 9.4000000e+00 5.1290000e+01 3.4004000e+02 3.8300000e+01 1.4140000e+01\n",
      " 6.6330910e+04 6.4270000e+01 1.4178330e+04 8.2700000e+02 2.5000000e+00\n",
      " 5.6846900e+03 3.7940000e+04 2.9992440e+04 6.9939500e+03 5.9620300e+03\n",
      " 3.6483000e+02 8.3852000e+02 9.8466100e+03 3.9075300e+03 1.1418000e+03\n",
      " 2.2443450e+04 1.8820000e+01 4.9000000e-01 9.9440000e+02 2.9490000e+01\n",
      " 1.2141000e+04 3.0000000e+00 3.9326000e+03 4.0990000e+01 4.2709100e+03\n",
      " 3.6024420e+04 1.7498940e+04 7.3194530e+04 7.0141500e+03 3.5000000e+00\n",
      " 9.4200000e+03 3.3120000e+03 4.9388000e+02 6.3370000e+03 3.8640000e+02\n",
      " 9.6040000e+01 6.9009600e+03 8.1493046e+05 2.7000000e+02 1.7000000e-01\n",
      " 2.0000000e+00 1.1000000e+01 2.0770000e+01 1.2400000e+00 1.3300000e+00\n",
      " 2.8540000e+01 1.6407000e+02 5.5000000e+01 9.7700000e+02 8.2681600e+03\n",
      " 2.7195300e+03 3.3700000e+01 2.6335300e+03 1.6470000e+01 3.7000000e-01\n",
      " 1.9217500e+03 1.2480000e+03 2.5266200e+03 6.3637500e+03 1.7232090e+04\n",
      " 7.1570000e+03 1.8551180e+04 2.1288200e+03 1.0140000e+01 1.9209930e+04\n",
      " 1.5251670e+04 2.7980000e+04 1.2519100e+03 5.2208000e+02 4.2180000e+02\n",
      " 2.0061000e+04 9.2810000e+02 1.2240700e+03 8.9500000e+00 2.3029000e+02\n",
      " 6.9508000e+02 2.1630300e+04 4.1270000e+03 1.0520000e+01 2.5441600e+03\n",
      " 9.6570000e+03 3.1730000e+02 3.1550000e+03 4.8090000e+04 3.1009500e+05\n",
      " 1.9160000e+01 1.9200000e+03 3.5494000e+03 4.4230000e+02 4.6683000e+04\n",
      " 1.4061860e+04 5.8300000e+00 6.6470000e+02 5.4900000e+02 4.5755100e+04\n",
      " 1.7674930e+04]\n",
      "float64\n",
      "<class 'pandas.core.frame.DataFrame'>\n",
      "RangeIndex: 237 entries, 0 to 236\n",
      "Data columns (total 11 columns):\n",
      " #   Column                                                Non-Null Count  Dtype  \n",
      "---  ------                                                --------------  -----  \n",
      " 0   CountryID                                             237 non-null    float64\n",
      " 1   Country and Area                                      237 non-null    object \n",
      " 2   Forest Area, 1990                                     237 non-null    float64\n",
      " 3   Forest Area, 2000                                     237 non-null    float64\n",
      " 4   Forest Area, 2010                                     237 non-null    float64\n",
      " 5   Forest Area, 2015                                     236 non-null    float64\n",
      " 6   Forest Area, 2020                                     237 non-null    float64\n",
      " 7   Total Land Area, 2020                                 237 non-null    float64\n",
      " 8   Forest Area as a Proportion of Total Land Area, 2020  237 non-null    float64\n",
      " 9   Deforestation, 2015-2020                              237 non-null    float64\n",
      " 10  Total Forest Area Affected by Fire, 2015              237 non-null    float64\n",
      "dtypes: float64(10), object(1)\n",
      "memory usage: 20.5+ KB\n"
     ]
    }
   ],
   "source": [
    "forest_data['Forest Area, 2015'].fillna(forest_data['Forest Area, 2010'],  inplace = True)\n",
    "for col in forest_data.columns[2:7]:\n",
    "    forest_data[col] = pd.to_numeric(forest_data[col], errors='coerce')\n",
    "\n",
    "forest_data.info()\n",
    "#to check whether our values are really float or not\n",
    "print(forest_data['Forest Area, 2015'].unique())\n",
    "print(forest_data['Forest Area, 2015'].dtype)\n",
    "\n",
    "for col in forest_data.columns[2:]:  \n",
    "    forest_data[col] = pd.to_numeric(forest_data[col], errors='coerce')\n",
    "\n",
    "# Obsłuż wartości NaN, np. zastąp średnią lub medianą, lub usuń wiersze zawierające NaN\n",
    "forest_data.fillna(method='ffill', inplace=True) \n",
    "forest_data.replace([np.inf, -np.inf], np.nan, inplace=True)\n",
    "forest_data.info()"
   ]
  },
  {
   "cell_type": "markdown",
   "id": "1b2c94c7-d076-4d5d-b60b-8b470cfa0d51",
   "metadata": {},
   "source": [
    "# Forestation future trends \n",
    "Now, after cleaning the data, let's show forestation trend over the countries"
   ]
  },
  {
   "cell_type": "code",
   "execution_count": 5,
   "id": "5aedf55c-13a2-4c8b-9bfe-ba6b9d53fab6",
   "metadata": {
    "editable": true,
    "slideshow": {
     "slide_type": ""
    },
    "tags": []
   },
   "outputs": [
    {
     "data": {
      "text/plain": [
       "<Figure size 1000x600 with 0 Axes>"
      ]
     },
     "metadata": {},
     "output_type": "display_data"
    },
    {
     "data": {
      "application/vnd.jupyter.widget-view+json": {
       "model_id": "2544ceeffcab44eeb14cfef8954b8f91",
       "version_major": 2,
       "version_minor": 0
      },
      "text/plain": [
       "interactive(children=(Dropdown(description='Country:', options=('WORLD', 'Afghanistan', 'Albania', 'Algeria', …"
      ]
     },
     "metadata": {},
     "output_type": "display_data"
    },
    {
     "data": {
      "text/plain": [
       "<function __main__.plot_country_forest_area(country)>"
      ]
     },
     "execution_count": 5,
     "metadata": {},
     "output_type": "execute_result"
    }
   ],
   "source": [
    "trend_colors = []\n",
    "\n",
    "years = np.array([1990, 2000, 2010, 2015, 2020]).reshape(-1, 1)\n",
    "world_forest_data = forest_data[forest_data['Country and Area'] == 'WORLD']\n",
    "countries_forest_data = forest_data[forest_data['Country and Area'] != 'WORLD']\n",
    "\n",
    "# Function to plot trend in afforestation in chosen country\n",
    "def plot_country_forest_area(country):\n",
    "    plt.figure(figsize=(10, 6))\n",
    "    for index, row in forest_data.iterrows():\n",
    "        if row['Country and Area'] == country:\n",
    "            forest_area = pd.to_numeric(row[2:7], errors='coerce').values.reshape(-1, 1)\n",
    "            model = np.polyfit(years.flatten(), forest_area.flatten(), 1)\n",
    "            slope = model[0]  \n",
    "            if slope < -0.1:\n",
    "                trend_color = \"red\"\n",
    "            elif -0.1 <= slope <= 0.1:\n",
    "                trend_color = \"grey\"\n",
    "            else:\n",
    "                trend_color = \"green\"\n",
    "            plt.plot(years.flatten(), row[2:7], label=row['Country and Area'], color=trend_color)\n",
    "    plt.xlabel(\"Year\")\n",
    "    plt.ylabel(\"Forest Area (ha)\")\n",
    "    plt.title(f\"Forest Area Change Over Time - {country}\")\n",
    "    plt.legend(bbox_to_anchor=(1.05, 1), loc='upper left')\n",
    "    plt.show()\n",
    "\n",
    "# User's list with countries\n",
    "country_dropdown = widgets.Dropdown(\n",
    "    options=forest_data['Country and Area'].unique(),\n",
    "    description='Country:',\n",
    "    disabled=False,\n",
    ")\n",
    "\n",
    "# Interactive box to choose country\n",
    "interact(plot_country_forest_area, country=country_dropdown)"
   ]
  },
  {
   "cell_type": "markdown",
   "id": "fb041dd9-3765-4aad-9ed8-2f5123a0ec2e",
   "metadata": {},
   "source": [
    "Overall trend is negative, but in smaller countries it is probably reversed. Let's see if I'm right."
   ]
  }
 ],
 "metadata": {
  "kernelspec": {
   "display_name": "Python 3 (ipykernel)",
   "language": "python",
   "name": "python3"
  },
  "language_info": {
   "codemirror_mode": {
    "name": "ipython",
    "version": 3
   },
   "file_extension": ".py",
   "mimetype": "text/x-python",
   "name": "python",
   "nbconvert_exporter": "python",
   "pygments_lexer": "ipython3",
   "version": "3.11.7"
  }
 },
 "nbformat": 4,
 "nbformat_minor": 5
}
