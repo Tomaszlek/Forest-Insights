{
 "cells": [
  {
   "cell_type": "markdown",
   "id": "cc52035a-22ab-410a-b3ed-d98819379fc2",
   "metadata": {},
   "source": [
    "# Forest future\n",
    "\n",
    "In this notebook I will conclude whether world's forests are safe from disappearing or not. I will focus on future trends\n",
    "and those areas, which I consider as the most important ones.\n"
   ]
  },
  {
   "cell_type": "code",
   "execution_count": 37,
   "id": "e1b93bdf-6f43-40fc-ad31-8b128841bc49",
   "metadata": {},
   "outputs": [],
   "source": [
    "import numpy as np \n",
    "import pandas as pd \n",
    "import matplotlib.pyplot as plt \n",
    "from sklearn.model_selection import train_test_split\n",
    "from sklearn.linear_model import LinearRegression\n",
    "import warnings\n",
    "import os\n",
    "\n",
    "warnings.filterwarnings('ignore', category=FutureWarning)"
   ]
  },
  {
   "cell_type": "code",
   "execution_count": 38,
   "id": "aa42918a-bcb9-4f10-8698-1480fa16d1c8",
   "metadata": {},
   "outputs": [
    {
     "data": {
      "text/html": [
       "<div>\n",
       "<style scoped>\n",
       "    .dataframe tbody tr th:only-of-type {\n",
       "        vertical-align: middle;\n",
       "    }\n",
       "\n",
       "    .dataframe tbody tr th {\n",
       "        vertical-align: top;\n",
       "    }\n",
       "\n",
       "    .dataframe thead th {\n",
       "        text-align: right;\n",
       "    }\n",
       "</style>\n",
       "<table border=\"1\" class=\"dataframe\">\n",
       "  <thead>\n",
       "    <tr style=\"text-align: right;\">\n",
       "      <th></th>\n",
       "      <th>CountryID</th>\n",
       "      <th>Country and Area</th>\n",
       "      <th>Forest Area, 1990</th>\n",
       "      <th>Forest Area, 2000</th>\n",
       "      <th>Forest Area, 2010</th>\n",
       "      <th>Forest Area, 2015</th>\n",
       "      <th>Forest Area, 2020</th>\n",
       "      <th>Total Land Area, 2020</th>\n",
       "      <th>Forest Area as a Proportion of Total Land Area, 2020</th>\n",
       "      <th>Deforestation, 2015-2020</th>\n",
       "      <th>Total Forest Area Affected by Fire, 2015</th>\n",
       "    </tr>\n",
       "  </thead>\n",
       "  <tbody>\n",
       "    <tr>\n",
       "      <th>0</th>\n",
       "      <td>1.0</td>\n",
       "      <td>WORLD</td>\n",
       "      <td>4236433.42</td>\n",
       "      <td>4158049.52</td>\n",
       "      <td>4106316.94</td>\n",
       "      <td>...</td>\n",
       "      <td>4058930.81</td>\n",
       "      <td>13003000.0</td>\n",
       "      <td>31.13</td>\n",
       "      <td>10200</td>\n",
       "      <td>98040</td>\n",
       "    </tr>\n",
       "    <tr>\n",
       "      <th>1</th>\n",
       "      <td>4.0</td>\n",
       "      <td>Afghanistan</td>\n",
       "      <td>1208.44</td>\n",
       "      <td>1208.44</td>\n",
       "      <td>1208.44</td>\n",
       "      <td>1208.44</td>\n",
       "      <td>1208.44</td>\n",
       "      <td>65286.0</td>\n",
       "      <td>1.85</td>\n",
       "      <td>...</td>\n",
       "      <td>...</td>\n",
       "    </tr>\n",
       "    <tr>\n",
       "      <th>2</th>\n",
       "      <td>8.0</td>\n",
       "      <td>Albania</td>\n",
       "      <td>788.80</td>\n",
       "      <td>769.30</td>\n",
       "      <td>782.07</td>\n",
       "      <td>789.19</td>\n",
       "      <td>788.90</td>\n",
       "      <td>2740.0</td>\n",
       "      <td>28.79</td>\n",
       "      <td>...</td>\n",
       "      <td>...</td>\n",
       "    </tr>\n",
       "    <tr>\n",
       "      <th>3</th>\n",
       "      <td>12.0</td>\n",
       "      <td>Algeria</td>\n",
       "      <td>1667.00</td>\n",
       "      <td>1579.00</td>\n",
       "      <td>1918.00</td>\n",
       "      <td>1956</td>\n",
       "      <td>1949.00</td>\n",
       "      <td>238174.0</td>\n",
       "      <td>0.82</td>\n",
       "      <td>5.4</td>\n",
       "      <td>...</td>\n",
       "    </tr>\n",
       "    <tr>\n",
       "      <th>4</th>\n",
       "      <td>16.0</td>\n",
       "      <td>American Samoa</td>\n",
       "      <td>18.07</td>\n",
       "      <td>17.73</td>\n",
       "      <td>17.43</td>\n",
       "      <td>17.28</td>\n",
       "      <td>17.13</td>\n",
       "      <td>20.0</td>\n",
       "      <td>85.65</td>\n",
       "      <td>...</td>\n",
       "      <td>0</td>\n",
       "    </tr>\n",
       "  </tbody>\n",
       "</table>\n",
       "</div>"
      ],
      "text/plain": [
       "   CountryID Country and Area  Forest Area, 1990  Forest Area, 2000  \\\n",
       "0        1.0            WORLD         4236433.42         4158049.52   \n",
       "1        4.0      Afghanistan            1208.44            1208.44   \n",
       "2        8.0          Albania             788.80             769.30   \n",
       "3       12.0          Algeria            1667.00            1579.00   \n",
       "4       16.0   American Samoa              18.07              17.73   \n",
       "\n",
       "   Forest Area, 2010 Forest Area, 2015  Forest Area, 2020  \\\n",
       "0         4106316.94               ...         4058930.81   \n",
       "1            1208.44           1208.44            1208.44   \n",
       "2             782.07            789.19             788.90   \n",
       "3            1918.00              1956            1949.00   \n",
       "4              17.43             17.28              17.13   \n",
       "\n",
       "   Total Land Area, 2020  \\\n",
       "0             13003000.0   \n",
       "1                65286.0   \n",
       "2                 2740.0   \n",
       "3               238174.0   \n",
       "4                   20.0   \n",
       "\n",
       "   Forest Area as a Proportion of Total Land Area, 2020  \\\n",
       "0                                              31.13      \n",
       "1                                               1.85      \n",
       "2                                              28.79      \n",
       "3                                               0.82      \n",
       "4                                              85.65      \n",
       "\n",
       "  Deforestation, 2015-2020 Total Forest Area Affected by Fire, 2015  \n",
       "0                    10200                                    98040  \n",
       "1                      ...                                      ...  \n",
       "2                      ...                                      ...  \n",
       "3                      5.4                                      ...  \n",
       "4                      ...                                        0  "
      ]
     },
     "execution_count": 38,
     "metadata": {},
     "output_type": "execute_result"
    }
   ],
   "source": [
    "forest_data = pd.read_csv('Forest_Area.csv')\n",
    "\n",
    "forest_data.head()"
   ]
  },
  {
   "cell_type": "markdown",
   "id": "12077bfa-f49b-434b-8799-c9ad92f4a0ef",
   "metadata": {},
   "source": [
    "We have got 233 different countries with data collected for the whole planet. Now it's time to replace the missing data and preprocess it to make it clearer for further analysis"
   ]
  },
  {
   "cell_type": "code",
   "execution_count": 39,
   "id": "ec3729bd-5dcb-4b1e-b006-6539003a4350",
   "metadata": {},
   "outputs": [
    {
     "name": "stdout",
     "output_type": "stream",
     "text": [
      "<class 'pandas.core.frame.DataFrame'>\n",
      "RangeIndex: 237 entries, 0 to 236\n",
      "Data columns (total 11 columns):\n",
      " #   Column                                                Non-Null Count  Dtype  \n",
      "---  ------                                                --------------  -----  \n",
      " 0   CountryID                                             237 non-null    float64\n",
      " 1   Country and Area                                      237 non-null    object \n",
      " 2   Forest Area, 1990                                     237 non-null    float64\n",
      " 3   Forest Area, 2000                                     237 non-null    float64\n",
      " 4   Forest Area, 2010                                     237 non-null    float64\n",
      " 5   Forest Area, 2015                                     237 non-null    object \n",
      " 6   Forest Area, 2020                                     237 non-null    float64\n",
      " 7   Total Land Area, 2020                                 237 non-null    float64\n",
      " 8   Forest Area as a Proportion of Total Land Area, 2020  237 non-null    float64\n",
      " 9   Deforestation, 2015-2020                              237 non-null    object \n",
      " 10  Total Forest Area Affected by Fire, 2015              237 non-null    object \n",
      "dtypes: float64(7), object(4)\n",
      "memory usage: 20.5+ KB\n"
     ]
    }
   ],
   "source": [
    "forest_data.head()\n",
    "forest_data.info()"
   ]
  },
  {
   "cell_type": "code",
   "execution_count": 53,
   "id": "1a83919c-608a-4d0a-aca3-9cbbd6d6b681",
   "metadata": {},
   "outputs": [
    {
     "name": "stdout",
     "output_type": "stream",
     "text": [
      "<class 'pandas.core.frame.DataFrame'>\n",
      "RangeIndex: 237 entries, 0 to 236\n",
      "Data columns (total 11 columns):\n",
      " #   Column                                                Non-Null Count  Dtype  \n",
      "---  ------                                                --------------  -----  \n",
      " 0   CountryID                                             237 non-null    float64\n",
      " 1   Country and Area                                      237 non-null    object \n",
      " 2   Forest Area, 1990                                     237 non-null    float64\n",
      " 3   Forest Area, 2000                                     237 non-null    float64\n",
      " 4   Forest Area, 2010                                     237 non-null    float64\n",
      " 5   Forest Area, 2015                                     237 non-null    float64\n",
      " 6   Forest Area, 2020                                     237 non-null    float64\n",
      " 7   Total Land Area, 2020                                 237 non-null    float64\n",
      " 8   Forest Area as a Proportion of Total Land Area, 2020  237 non-null    float64\n",
      " 9   Deforestation, 2015-2020                              237 non-null    float64\n",
      " 10  Total Forest Area Affected by Fire, 2015              237 non-null    float64\n",
      "dtypes: float64(10), object(1)\n",
      "memory usage: 20.5+ KB\n"
     ]
    },
    {
     "data": {
      "text/html": [
       "<div>\n",
       "<style scoped>\n",
       "    .dataframe tbody tr th:only-of-type {\n",
       "        vertical-align: middle;\n",
       "    }\n",
       "\n",
       "    .dataframe tbody tr th {\n",
       "        vertical-align: top;\n",
       "    }\n",
       "\n",
       "    .dataframe thead th {\n",
       "        text-align: right;\n",
       "    }\n",
       "</style>\n",
       "<table border=\"1\" class=\"dataframe\">\n",
       "  <thead>\n",
       "    <tr style=\"text-align: right;\">\n",
       "      <th></th>\n",
       "      <th>CountryID</th>\n",
       "      <th>Country and Area</th>\n",
       "      <th>Forest Area, 1990</th>\n",
       "      <th>Forest Area, 2000</th>\n",
       "      <th>Forest Area, 2010</th>\n",
       "      <th>Forest Area, 2015</th>\n",
       "      <th>Forest Area, 2020</th>\n",
       "      <th>Total Land Area, 2020</th>\n",
       "      <th>Forest Area as a Proportion of Total Land Area, 2020</th>\n",
       "      <th>Deforestation, 2015-2020</th>\n",
       "      <th>Total Forest Area Affected by Fire, 2015</th>\n",
       "    </tr>\n",
       "  </thead>\n",
       "  <tbody>\n",
       "    <tr>\n",
       "      <th>0</th>\n",
       "      <td>1.0</td>\n",
       "      <td>WORLD</td>\n",
       "      <td>4236433.42</td>\n",
       "      <td>4158049.52</td>\n",
       "      <td>4106316.94</td>\n",
       "      <td>4106316.94</td>\n",
       "      <td>4058930.81</td>\n",
       "      <td>13003000.0</td>\n",
       "      <td>31.13</td>\n",
       "      <td>10200.0</td>\n",
       "      <td>98040.0</td>\n",
       "    </tr>\n",
       "    <tr>\n",
       "      <th>1</th>\n",
       "      <td>4.0</td>\n",
       "      <td>Afghanistan</td>\n",
       "      <td>1208.44</td>\n",
       "      <td>1208.44</td>\n",
       "      <td>1208.44</td>\n",
       "      <td>1208.44</td>\n",
       "      <td>1208.44</td>\n",
       "      <td>65286.0</td>\n",
       "      <td>1.85</td>\n",
       "      <td>10200.0</td>\n",
       "      <td>98040.0</td>\n",
       "    </tr>\n",
       "    <tr>\n",
       "      <th>2</th>\n",
       "      <td>8.0</td>\n",
       "      <td>Albania</td>\n",
       "      <td>788.80</td>\n",
       "      <td>769.30</td>\n",
       "      <td>782.07</td>\n",
       "      <td>789.19</td>\n",
       "      <td>788.90</td>\n",
       "      <td>2740.0</td>\n",
       "      <td>28.79</td>\n",
       "      <td>10200.0</td>\n",
       "      <td>98040.0</td>\n",
       "    </tr>\n",
       "    <tr>\n",
       "      <th>3</th>\n",
       "      <td>12.0</td>\n",
       "      <td>Algeria</td>\n",
       "      <td>1667.00</td>\n",
       "      <td>1579.00</td>\n",
       "      <td>1918.00</td>\n",
       "      <td>1956.00</td>\n",
       "      <td>1949.00</td>\n",
       "      <td>238174.0</td>\n",
       "      <td>0.82</td>\n",
       "      <td>5.4</td>\n",
       "      <td>98040.0</td>\n",
       "    </tr>\n",
       "    <tr>\n",
       "      <th>4</th>\n",
       "      <td>16.0</td>\n",
       "      <td>American Samoa</td>\n",
       "      <td>18.07</td>\n",
       "      <td>17.73</td>\n",
       "      <td>17.43</td>\n",
       "      <td>17.28</td>\n",
       "      <td>17.13</td>\n",
       "      <td>20.0</td>\n",
       "      <td>85.65</td>\n",
       "      <td>5.4</td>\n",
       "      <td>0.0</td>\n",
       "    </tr>\n",
       "  </tbody>\n",
       "</table>\n",
       "</div>"
      ],
      "text/plain": [
       "   CountryID Country and Area  Forest Area, 1990  Forest Area, 2000  \\\n",
       "0        1.0            WORLD         4236433.42         4158049.52   \n",
       "1        4.0      Afghanistan            1208.44            1208.44   \n",
       "2        8.0          Albania             788.80             769.30   \n",
       "3       12.0          Algeria            1667.00            1579.00   \n",
       "4       16.0   American Samoa              18.07              17.73   \n",
       "\n",
       "   Forest Area, 2010  Forest Area, 2015  Forest Area, 2020  \\\n",
       "0         4106316.94         4106316.94         4058930.81   \n",
       "1            1208.44            1208.44            1208.44   \n",
       "2             782.07             789.19             788.90   \n",
       "3            1918.00            1956.00            1949.00   \n",
       "4              17.43              17.28              17.13   \n",
       "\n",
       "   Total Land Area, 2020  \\\n",
       "0             13003000.0   \n",
       "1                65286.0   \n",
       "2                 2740.0   \n",
       "3               238174.0   \n",
       "4                   20.0   \n",
       "\n",
       "   Forest Area as a Proportion of Total Land Area, 2020  \\\n",
       "0                                              31.13      \n",
       "1                                               1.85      \n",
       "2                                              28.79      \n",
       "3                                               0.82      \n",
       "4                                              85.65      \n",
       "\n",
       "   Deforestation, 2015-2020  Total Forest Area Affected by Fire, 2015  \n",
       "0                   10200.0                                   98040.0  \n",
       "1                   10200.0                                   98040.0  \n",
       "2                   10200.0                                   98040.0  \n",
       "3                       5.4                                   98040.0  \n",
       "4                       5.4                                       0.0  "
      ]
     },
     "execution_count": 53,
     "metadata": {},
     "output_type": "execute_result"
    }
   ],
   "source": [
    "forest_data['Forest Area, 2015'].fillna(forest_data['Forest Area, 2010'],  inplace = True)\n",
    "for col in forest_data.columns[2:7]:\n",
    "    forest_data[col] = pd.to_numeric(forest_data[col], errors='coerce')\n",
    "\n",
    "forest_data.info()\n",
    "#to check whether our values are really float or not\n",
    "#print(forest_data['Forest Area, 2015'].unique())\n",
    "#print(forest_data['Forest Area, 2015'].dtype)\n",
    "\n",
    "for col in forest_data.columns[2:]:  \n",
    "    forest_data[col] = pd.to_numeric(forest_data[col], errors='coerce')\n",
    "\n",
    "# Obsłuż wartości NaN, np. zastąp średnią lub medianą, lub usuń wiersze zawierające NaN\n",
    "forest_data.fillna(method='ffill', inplace=True) \n",
    "forest_data.replace([np.inf, -np.inf], np.nan, inplace=True)\n",
    "\n",
    "forest_data.head()"
   ]
  },
  {
   "cell_type": "markdown",
   "id": "1b2c94c7-d076-4d5d-b60b-8b470cfa0d51",
   "metadata": {},
   "source": [
    "# Forestation future trends \n",
    "Now, after cleaning the data, let's show forestation trend over the countries"
   ]
  },
  {
   "cell_type": "code",
   "execution_count": 41,
   "id": "5aedf55c-13a2-4c8b-9bfe-ba6b9d53fab6",
   "metadata": {
    "editable": true,
    "slideshow": {
     "slide_type": ""
    },
    "tags": []
   },
   "outputs": [
    {
     "data": {
      "text/plain": [
       "<Figure size 1000x600 with 0 Axes>"
      ]
     },
     "metadata": {},
     "output_type": "display_data"
    },
    {
     "data": {
      "application/vnd.jupyter.widget-view+json": {
       "model_id": "0bf0c6105fa74ef3b426151015013ff3",
       "version_major": 2,
       "version_minor": 0
      },
      "text/plain": [
       "interactive(children=(Dropdown(description='Country:', options=('WORLD', 'Afghanistan', 'Albania', 'Algeria', …"
      ]
     },
     "metadata": {},
     "output_type": "display_data"
    },
    {
     "data": {
      "text/plain": [
       "<function __main__.plot_country_forest_area(country)>"
      ]
     },
     "execution_count": 41,
     "metadata": {},
     "output_type": "execute_result"
    }
   ],
   "source": [
    "trend_colors = []\n",
    "\n",
    "years = np.array([1990, 2000, 2010, 2015, 2020]).reshape(-1, 1)\n",
    "world_forest_data = forest_data[forest_data['Country and Area'] == 'WORLD']\n",
    "countries_forest_data = forest_data[forest_data['Country and Area'] != 'WORLD']\n",
    "\n",
    "# Function to plot trend in afforestation in chosen country\n",
    "def plot_country_forest_area(country):\n",
    "    plt.figure(figsize=(10, 6))\n",
    "    for index, row in forest_data.iterrows():\n",
    "        if row['Country and Area'] == country:\n",
    "            forest_area = pd.to_numeric(row[2:7], errors='coerce').values.reshape(-1, 1)\n",
    "            model = np.polyfit(years.flatten(), forest_area.flatten(), 1)\n",
    "            slope = model[0]  \n",
    "            if slope < -0.1:\n",
    "                trend_color = \"red\"\n",
    "            elif -0.1 <= slope <= 0.1:\n",
    "                trend_color = \"grey\"\n",
    "            else:\n",
    "                trend_color = \"green\"\n",
    "            plt.plot(years.flatten(), row[2:7], label=row['Country and Area'], color=trend_color)\n",
    "    plt.xlabel(\"Year\")\n",
    "    plt.ylabel(\"Forest Area (ha)\")\n",
    "    plt.title(f\"Forest Area Change Over Time - {country}\")\n",
    "    plt.legend(bbox_to_anchor=(1.05, 1), loc='upper left')\n",
    "    plt.show()\n",
    "\n",
    "# User's list with countries\n",
    "country_dropdown = widgets.Dropdown(\n",
    "    options=forest_data['Country and Area'].unique(),\n",
    "    description='Country:',\n",
    "    disabled=False,\n",
    ")\n",
    "\n",
    "# Interactive box to choose country\n",
    "interact(plot_country_forest_area, country=country_dropdown)"
   ]
  },
  {
   "cell_type": "markdown",
   "id": "fb041dd9-3765-4aad-9ed8-2f5123a0ec2e",
   "metadata": {},
   "source": [
    "### Overall trend is negative, but in smaller countries it is probably reversed. Let's see if I'm right."
   ]
  },
  {
   "cell_type": "code",
   "execution_count": 56,
   "id": "ef01a17b-30b2-428a-aa75-555386a92684",
   "metadata": {},
   "outputs": [
    {
     "name": "stderr",
     "output_type": "stream",
     "text": [
      "C:\\Users\\Tomek\\AppData\\Local\\Temp\\ipykernel_13152\\699822295.py:3: SettingWithCopyWarning: \n",
      "A value is trying to be set on a copy of a slice from a DataFrame.\n",
      "Try using .loc[row_indexer,col_indexer] = value instead\n",
      "\n",
      "See the caveats in the documentation: https://pandas.pydata.org/pandas-docs/stable/user_guide/indexing.html#returning-a-view-versus-a-copy\n",
      "  countries_forest_data['Slope of Forest Area Trend (%)'] = ((countries_forest_data['Forest Area, 2020'] - countries_forest_data['Forest Area, 1990']) / countries_forest_data['Total Land Area, 2020']) * 100\n"
     ]
    },
    {
     "data": {
      "image/png": "[encoded data removed]",
      "text/plain": [
       "<Figure size 1200x800 with 1 Axes>"
      ]
     },
     "metadata": {},
     "output_type": "display_data"
    },
    {
     "name": "stdout",
     "output_type": "stream",
     "text": [
      "Korelacja pomiędzy nachyleniem trendu zalesienia a wielkością kraju: -0.011914498438777255\n"
     ]
    }
   ],
   "source": [
    "top_10_countries = countries_forest_data.nlargest(10, 'Total Land Area, 2020')\n",
    "\n",
    "countries_forest_data['Slope of Forest Area Trend (%)'] = ((countries_forest_data['Forest Area, 2020'] - countries_forest_data['Forest Area, 1990']) / countries_forest_data['Total Land Area, 2020']) * 100\n",
    "\n",
    "colors = np.where(countries_forest_data['Slope of Forest Area Trend (%)'] > 0, 'green', \n",
    "                  np.where(countries_forest_data['Slope of Forest Area Trend (%)'] < 0, 'red', 'grey'))\n",
    "\n",
    "sizes = countries_forest_data['Total Land Area, 2020'] / countries_forest_data['Total Land Area, 2020'].max() * 500  # Skalowanie wielkości kropki\n",
    "\n",
    "plt.figure(figsize=(12, 8))\n",
    "plt.scatter(countries_forest_data['Slope of Forest Area Trend (%)'],\n",
    "            countries_forest_data['Total Land Area, 2020']/100, \n",
    "            color=colors, alpha=0.7, s=sizes)\n",
    "\n",
    "for i, txt in enumerate(top_10_countries['Country and Area']):\n",
    "    plt.annotate(txt, (top_10_countries['Slope of Forest Area Trend (%)'].iloc[i], top_10_countries['Total Land Area, 2020'].iloc[i]/100), fontsize=8)\n",
    "\n",
    "plt.ylabel('Total Land Area, 2020 (thousand sq km)')\n",
    "plt.xlabel('Slope of Forest Area Trend (%)')\n",
    "plt.title('Country Size vs. Forest Afforestation Trend')\n",
    "plt.grid(True)\n",
    "plt.show()\n",
    "\n",
    "correlation = countries_forest_data[['Slope of Forest Area Trend (%)', 'Total Land Area, 2020']].corr().iloc[0, 1]\n",
    "print(\"Korelacja pomiędzy nachyleniem trendu zalesienia a wielkością kraju:\", correlation)\n"
   ]
  },
  {
   "cell_type": "markdown",
   "id": "ecc2d321-2613-46a2-9009-5d03002c1170",
   "metadata": {},
   "source": [
    "# Future of forests\n",
    "Now it's time to predict the future of our forests using linear regression, as the trend seems to be quite linear."
   ]
  },
  {
   "cell_type": "code",
   "execution_count": 57,
   "id": "5e0f0d7b-b1c7-41bf-8bd7-0254e7bf2f25",
   "metadata": {},
   "outputs": [
    {
     "name": "stdout",
     "output_type": "stream",
     "text": [
      "      Afghanistan     Albania      Algeria  American Samoa  Andorra  \\\n",
      "2021      1208.44  786.566172  1991.141379       17.091586     16.0   \n",
      "2025      1208.44  787.398793  2041.810345       16.966897     16.0   \n",
      "2030      1208.44  788.439569  2105.146552       16.811034     16.0   \n",
      "2035      1208.44  789.480345  2168.482759       16.655172     16.0   \n",
      "2040      1208.44  790.521121  2231.818966       16.499310     16.0   \n",
      "\n",
      "            Angola  Anguilla  Antigua and Barbuda     Argentina     Armenia  \\\n",
      "2021  66892.952379       5.5             8.052207  27980.341379  328.264759   \n",
      "2025  65141.255345       5.5             7.786552  27033.810345  327.430690   \n",
      "2030  62951.634052       5.5             7.454483  25850.646552  326.388103   \n",
      "2035  60762.012759       5.5             7.122414  24667.482759  325.345517   \n",
      "2040  58572.391466       5.5             6.790345  23484.318966  324.302931   \n",
      "\n",
      "      ...      Uruguay   Uzbekistan  Vanuatu  \\\n",
      "2021  ...  2144.533448  3759.141069    442.3   \n",
      "2025  ...  2308.725862  3913.210517    442.3   \n",
      "2030  ...  2513.966379  4105.797328    442.3   \n",
      "2035  ...  2719.206897  4298.384138    442.3   \n",
      "2040  ...  2924.447414  4490.970948    442.3   \n",
      "\n",
      "      Venezuela (Bolivarian Republic of)      Viet Nam  \\\n",
      "2021                        45627.358966  15091.905276   \n",
      "2025                        44858.267241  15789.417069   \n",
      "2030                        43896.902586  16661.306810   \n",
      "2035                        42935.537931  17533.196552   \n",
      "2040                        41974.173276  18405.086293   \n",
      "\n",
      "      Wallis and Futuna Islands  Western Sahara  Yemen        Zambia  Zimbabwe  \n",
      "2021                   5.832966      665.060724  549.0  45219.689207  17398.51  \n",
      "2025                   5.837241      664.832931  549.0  44897.821552  17214.23  \n",
      "2030                   5.842586      664.548190  549.0  44495.486983  16983.88  \n",
      "2035                   5.847931      664.263448  549.0  44093.152414  16753.53  \n",
      "2040                   5.853276      663.978707  549.0  43690.817845  16523.18  \n",
      "\n",
      "[5 rows x 236 columns]\n"
     ]
    }
   ],
   "source": [
    "future_years = np.array([2021, 2025, 2030, 2035, 2040, 2045, 2050]).reshape(-1, 1)  \n",
    "\n",
    "predictions = {}\n",
    "\n",
    "for index, row in countries_forest_data.iterrows():\n",
    "    country_name = row['Country and Area']\n",
    "    forest_area = row[['Forest Area, 1990', 'Forest Area, 2000', 'Forest Area, 2010', 'Forest Area, 2015', 'Forest Area, 2020']].values.reshape(-1, 1)\n",
    "\n",
    "    model = LinearRegression()\n",
    "    model.fit(years, forest_area)\n",
    "\n",
    "    predicted_forest_area = model.predict(future_years).flatten()\n",
    "    predictions[country_name] = predicted_forest_area\n",
    "\n",
    "predictions_df = pd.DataFrame(predictions, index=future_years.flatten())\n",
    "\n",
    "print(predictions_df.head())"
   ]
  },
  {
   "cell_type": "markdown",
   "id": "215c2567-6e14-403c-a1b6-48efce21263e",
   "metadata": {},
   "source": [
    "Visualize these trends"
   ]
  },
  {
   "cell_type": "code",
   "execution_count": 58,
   "id": "6044da93-2751-421d-9971-9c6fc7fef398",
   "metadata": {
    "editable": true,
    "slideshow": {
     "slide_type": ""
    },
    "tags": []
   },
   "outputs": [
    {
     "name": "stderr",
     "output_type": "stream",
     "text": [
      "C:\\Users\\Tomek\\AppData\\Local\\Temp\\ipykernel_13152\\337112349.py:30: UserWarning: Glyph 146 (\\x92) missing from current font.\n",
      "  plt.savefig(filename)\n"
     ]
    }
   ],
   "source": [
    "output_dir = \"prediction_charts\"\n",
    "if not os.path.exists(output_dir):\n",
    "    os.makedirs(output_dir)\n",
    "\n",
    "for country in predictions_df.columns:\n",
    "    plt.figure(figsize=(10, 6))\n",
    "    future_years = predictions_df.index.tolist()\n",
    "    historical_forest_area = countries_forest_data.loc[countries_forest_data['Country and Area'] == country,\n",
    "    ['Forest Area, 1990', 'Forest Area, 2000', 'Forest Area, 2010', 'Forest Area, 2015', 'Forest Area, 2020']].values.flatten()\n",
    "    \n",
    "    plt.plot(years, historical_forest_area, label='Historical Data', marker='o')\n",
    "   \n",
    "    plt.plot(future_years, predictions_df[country], label='Predictions', linestyle='--', marker='x')\n",
    "\n",
    "    confidence_interval = predictions_df[country].std()  \n",
    "    upper_bound = predictions_df[country] + confidence_interval\n",
    "    lower_bound = predictions_df[country] - confidence_interval\n",
    "    \n",
    "    # Drawing confidence_interval\n",
    "    plt.fill_between(future_years, lower_bound, upper_bound, color='orange', alpha=0.15, label='Confidence interval')\n",
    "    \n",
    "    plt.title(f'Forest Area Predictions for {country}')\n",
    "    plt.xlabel('Year')\n",
    "    plt.ylabel('Forest Area (ar)')\n",
    "    plt.legend()\n",
    "    plt.grid(True)\n",
    "    \n",
    "    # Saving predictions to file, all predictions can be seen in prediction_charts folder\n",
    "    filename = f\"{output_dir}/{country}\".replace(\" \", \"_\").replace(\",\", \"\")\n",
    "    plt.savefig(filename)\n",
    "    plt.close()  "
   ]
  },
  {
   "cell_type": "markdown",
   "id": "90bd3405-e6bb-4830-867d-d5440017a543",
   "metadata": {
    "editable": true,
    "slideshow": {
     "slide_type": ""
    },
    "tags": []
   },
   "source": [
    "You can now go into prediction_charts folder to look at all predictions and look at the chosen country to see its predicted trend of afforestation.\n",
    "Last thing I'm going to do is to validate my model using R^2 parameter."
   ]
  },
  {
   "cell_type": "code",
   "execution_count": 60,
   "id": "377323f8-e79a-4e2e-b6b1-be7dc52f5ad2",
   "metadata": {},
   "outputs": [
    {
     "name": "stdout",
     "output_type": "stream",
     "text": [
      "R squared: -3.803448275862123\n"
     ]
    }
   ],
   "source": [
    "from sklearn.metrics import r2_score\n",
    "\n",
    "y_true = historical_forest_area\n",
    "y_pred = predictions_df[country].values\n",
    "\n",
    "y_pred = y_pred[:-2] #to fit R^2 score\n",
    "\n",
    "r_squared = r2_score(y_true, y_pred)\n",
    "print(\"R squared:\", r_squared)"
   ]
  },
  {
   "cell_type": "code",
   "execution_count": null,
   "id": "7e2d2057-c9bb-452f-ad83-cd45e93d537d",
   "metadata": {},
   "outputs": [],
   "source": []
  }
 ],
 "metadata": {
  "kernelspec": {
   "display_name": "Python 3 (ipykernel)",
   "language": "python",
   "name": "python3"
  },
  "language_info": {
   "codemirror_mode": {
    "name": "ipython",
    "version": 3
   },
   "file_extension": ".py",
   "mimetype": "text/x-python",
   "name": "python",
   "nbconvert_exporter": "python",
   "pygments_lexer": "ipython3",
   "version": "3.11.7"
  }
 },
 "nbformat": 4,
 "nbformat_minor": 5
}
